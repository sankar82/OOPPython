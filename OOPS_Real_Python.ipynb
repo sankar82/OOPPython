{
  "cells": [
    {
      "cell_type": "markdown",
      "metadata": {
        "id": "view-in-github",
        "colab_type": "text"
      },
      "source": [
        "<a href=\"https://colab.research.google.com/github/sankar82/OOPPython/blob/main/OOPS_Real_Python.ipynb\" target=\"_parent\"><img src=\"https://colab.research.google.com/assets/colab-badge.svg\" alt=\"Open In Colab\"/></a>"
      ]
    },
    {
      "cell_type": "markdown",
      "metadata": {
        "id": "lEMLQ5AFKhhR"
      },
      "source": [
        "# OOPS Concept Learning"
      ]
    },
    {
      "cell_type": "markdown",
      "metadata": {
        "id": "cAWWBNzeKhhX"
      },
      "source": [
        "### Notes from Real Python\n",
        "https://realpython.com/python3-object-oriented-programming/"
      ]
    },
    {
      "cell_type": "markdown",
      "metadata": {
        "id": "Xg2RwJr3KhhY"
      },
      "source": [
        "Program is anything that takes in input, manipulates data and gives output"
      ]
    },
    {
      "cell_type": "markdown",
      "metadata": {
        "id": "priRvGU-KhhZ"
      },
      "source": [
        "Objected-oriented programming (OOP) allows us to think of **complex software in terms of real-world objects and their relationship to each other.** OOP models real-world entities as software objects that have some data associated with them and can perform certain functions."
      ]
    },
    {
      "cell_type": "markdown",
      "metadata": {
        "id": "7dqfAKVYKhhZ"
      },
      "source": [
        "**Examples of objects**\n",
        "\n",
        "For instance, an object could represent a person with properties like a name, age, and address and behaviors such as walking, talking, breathing, and running. Or it could represent an email with properties like a recipient list, subject, and body and behaviors like adding attachments and sending."
      ]
    },
    {
      "cell_type": "markdown",
      "metadata": {
        "id": "Ttl8EeQLKhha"
      },
      "source": [
        "## Classes in Python\n",
        "\n",
        "We use classes to define our own Python objects\n",
        "\n",
        "Instantiate - we take a class and create an object from that class\n",
        "\n",
        "The objects once created are independent. They don't rely on the class anymore. We can change the properties of one object without affecting the other objects.\n",
        "\n",
        "A class is a blueprint for how something should be defined.While the class is the blueprint, an instance is an object that is built from a class and contains real data. \n",
        "\n",
        "**Analogy for a class**\n",
        "\n",
        "Put another way, a class is like a form or questionnaire. An instance is like a form that has been filled out with information. Just like many people can fill out the same form with their own unique information, many instances can be created from a single class.\n",
        "\n"
      ]
    },
    {
      "cell_type": "code",
      "execution_count": null,
      "metadata": {
        "id": "co7B4tOPKhhb"
      },
      "outputs": [],
      "source": [
        "# Example of a Dog class\n",
        "\n",
        "class Dog:\n",
        "    pass"
      ]
    },
    {
      "cell_type": "markdown",
      "metadata": {
        "id": "z7lpaTNOKhhd"
      },
      "source": [
        "The properties that all Dog objects must have are defined in a method called `__init__()`.\n",
        "\n",
        "Every time a new Dog object is made `__init__()` sets up the initial state of the object. This method assigns the values of the object's properties, which are the characteristics that every Dog object must have.\n",
        "\n",
        "`__init__()` can have any number of parameters passed to it, but the first one is always self. This variable is used to refer to the new instance of the Dog object that is being created. The `.__init__()` method uses this variable to define new attributes on the object, which are the specific details that make each Dog object unique.\n",
        "\n",
        "Let’s update the Dog class with an `__init__()` method that creates .name and .age attributes:"
      ]
    },
    {
      "cell_type": "code",
      "execution_count": null,
      "metadata": {
        "id": "VG44mrXcKhhe"
      },
      "outputs": [],
      "source": [
        "class Dog:\n",
        "    def __init__(self,name,age): # defining a new method\n",
        "        self.name = name # name after = is name parameter and .name is the attribute\n",
        "        self.age = age   # age after = is name parameter and .age is the attribute"
      ]
    },
    {
      "cell_type": "markdown",
      "metadata": {
        "id": "c-INbOjwKhhf"
      },
      "source": [
        "In the body of `.__init__()`, there are two statements using the self variable:\n",
        "\n",
        "* `self.name` = name creates an attribute called name and assigns to it the value of the name parameter.\n",
        "* `self.age` = age creates an attribute called age and assigns to it the value of the age parameter.\n",
        "\n",
        "Attributes created in `.__init__()` are called **instance attributes.** An instance attribute’s value is specific to a particular instance of the class. All Dog objects have a name and an age, but the values for the name and age attributes will vary depending on the Dog instance.\n",
        "\n",
        "Here, .name and .age are instance attributes. Remember attributes are always those that appear after . and without ()\n",
        "\n",
        "Another way to think about this is instance attributes are always defined, whereas class attributes are declared after class and before defining instance attributes in `__init__`. Anything that says self. is an instance attribute"
      ]
    },
    {
      "cell_type": "code",
      "execution_count": null,
      "metadata": {
        "id": "JfkGYdpUKhhg"
      },
      "outputs": [],
      "source": [
        "class Dog:\n",
        "    # Class attribute\n",
        "    species = \"Canis familiaris\"\n",
        "    \n",
        "    def __init__(self,name,age):\n",
        "        self.name = name\n",
        "        self.age = age"
      ]
    },
    {
      "cell_type": "markdown",
      "metadata": {
        "id": "7rgIrM01Khhh"
      },
      "source": [
        "Class attribute must always be assigned an initial value. When an instance of the class is created, class attributes are automatically created and assigned to their initial values.\n",
        "\n",
        "Use class attributes to define properties that should have the same value for every class instance. Use instance attributes for properties that vary from one instance to another."
      ]
    },
    {
      "cell_type": "markdown",
      "metadata": {
        "id": "QrNJG-buKhhi"
      },
      "source": [
        "## Instantiate an Object in Python"
      ]
    },
    {
      "cell_type": "code",
      "execution_count": null,
      "metadata": {
        "id": "htde57SMKhhi"
      },
      "outputs": [],
      "source": [
        "class Dog:\n",
        "    pass"
      ]
    },
    {
      "cell_type": "code",
      "execution_count": null,
      "metadata": {
        "id": "l-IaVaPUKhhi"
      },
      "outputs": [],
      "source": [
        "# Creating a new object from a class is called instantiating an object. \n",
        "# You can instantiate a new Dog object by typing the name of the class, followed by opening and closing parentheses\n",
        "a = Dog()"
      ]
    },
    {
      "cell_type": "code",
      "execution_count": null,
      "metadata": {
        "id": "WvqtFVO9Khhj"
      },
      "outputs": [],
      "source": [
        "b = Dog()"
      ]
    },
    {
      "cell_type": "code",
      "execution_count": null,
      "metadata": {
        "colab": {
          "base_uri": "https://localhost:8080/"
        },
        "id": "Y6Bi7NoIKhhj",
        "outputId": "c753bac0-8366-4fef-ceb4-7d0f0ed5bca0"
      },
      "outputs": [
        {
          "output_type": "execute_result",
          "data": {
            "text/plain": [
              "False"
            ]
          },
          "metadata": {},
          "execution_count": 7
        }
      ],
      "source": [
        "a==b\n",
        "# this is because a and b are completely different instances and stored at different memory in computer"
      ]
    },
    {
      "cell_type": "markdown",
      "metadata": {
        "id": "hxnL8jk_Khhk"
      },
      "source": [
        "## Class and instance attributes"
      ]
    },
    {
      "cell_type": "code",
      "execution_count": null,
      "metadata": {
        "id": "aQed3sonKhhk"
      },
      "outputs": [],
      "source": [
        "class Dog:\n",
        "    # Class attribute\n",
        "    species = \"Canis familiaris\"\n",
        "    \n",
        "    def __init__(self,name,age):\n",
        "        self.name = name\n",
        "        self.age = age"
      ]
    },
    {
      "cell_type": "code",
      "execution_count": null,
      "metadata": {
        "colab": {
          "base_uri": "https://localhost:8080/",
          "height": 201
        },
        "id": "z4OzEB1WKhhk",
        "outputId": "801aaebc-7a80-49fd-c286-e2d356f2cffe"
      },
      "outputs": [
        {
          "output_type": "error",
          "ename": "TypeError",
          "evalue": "ignored",
          "traceback": [
            "\u001b[0;31m---------------------------------------------------------------------------\u001b[0m",
            "\u001b[0;31mTypeError\u001b[0m                                 Traceback (most recent call last)",
            "\u001b[0;32m<ipython-input-9-2978bf19f695>\u001b[0m in \u001b[0;36m<cell line: 1>\u001b[0;34m()\u001b[0m\n\u001b[0;32m----> 1\u001b[0;31m \u001b[0mDog\u001b[0m\u001b[0;34m(\u001b[0m\u001b[0;34m)\u001b[0m\u001b[0;34m\u001b[0m\u001b[0;34m\u001b[0m\u001b[0m\n\u001b[0m\u001b[1;32m      2\u001b[0m \u001b[0;31m# Now we need to provide values for name ang age, else Python will throw an error\u001b[0m\u001b[0;34m\u001b[0m\u001b[0;34m\u001b[0m\u001b[0m\n\u001b[1;32m      3\u001b[0m \u001b[0;31m# This is a deliberate error to indicate that we always need to pass in the required arguments\u001b[0m\u001b[0;34m\u001b[0m\u001b[0;34m\u001b[0m\u001b[0m\n",
            "\u001b[0;31mTypeError\u001b[0m: Dog.__init__() missing 2 required positional arguments: 'name' and 'age'"
          ]
        }
      ],
      "source": [
        "Dog()\n",
        "# Now we need to provide values for name ang age, else Python will throw an error\n",
        "# This is a deliberate error to indicate that we always need to pass in the required arguments"
      ]
    },
    {
      "cell_type": "code",
      "execution_count": null,
      "metadata": {
        "id": "DwCvxPicKhhl"
      },
      "outputs": [],
      "source": [
        "buddy = Dog(\"Buddy\",9)\n",
        "miles = Dog(\"Miles\",4)"
      ]
    },
    {
      "cell_type": "markdown",
      "metadata": {
        "id": "SGjqBO8RKhhl"
      },
      "source": [
        "The Dog class’s `.__init__()` method has three parameters, so why are only two arguments passed to it in the example?\n",
        "\n",
        "When you instantiate a Dog object, Python creates a new instance and passes it to the first parameter of `.__init__()`. This essentially removes the self parameter, so you only need to worry about the name and age parameters."
      ]
    },
    {
      "cell_type": "code",
      "execution_count": null,
      "metadata": {
        "colab": {
          "base_uri": "https://localhost:8080/",
          "height": 35
        },
        "id": "L_WYhPuLKhhl",
        "outputId": "6a623745-a25d-4e91-c812-c1b5ad8b41c7"
      },
      "outputs": [
        {
          "output_type": "execute_result",
          "data": {
            "text/plain": [
              "'Buddy'"
            ],
            "application/vnd.google.colaboratory.intrinsic+json": {
              "type": "string"
            }
          },
          "metadata": {},
          "execution_count": 11
        }
      ],
      "source": [
        "# After you create the Dog instances, you can access their instance attributes using dot notation:\n",
        "buddy.name"
      ]
    },
    {
      "cell_type": "code",
      "execution_count": null,
      "metadata": {
        "colab": {
          "base_uri": "https://localhost:8080/"
        },
        "id": "f_moci5hKhhl",
        "outputId": "9da3db94-b61e-453e-af8a-0dc91077fe62"
      },
      "outputs": [
        {
          "output_type": "execute_result",
          "data": {
            "text/plain": [
              "9"
            ]
          },
          "metadata": {},
          "execution_count": 12
        }
      ],
      "source": [
        "buddy.age"
      ]
    },
    {
      "cell_type": "code",
      "execution_count": null,
      "metadata": {
        "colab": {
          "base_uri": "https://localhost:8080/",
          "height": 35
        },
        "id": "rpzfDQRxKhhm",
        "outputId": "772f97a5-3ad9-46e5-c176-5d31020c4929"
      },
      "outputs": [
        {
          "output_type": "execute_result",
          "data": {
            "text/plain": [
              "'Canis familiaris'"
            ],
            "application/vnd.google.colaboratory.intrinsic+json": {
              "type": "string"
            }
          },
          "metadata": {},
          "execution_count": 13
        }
      ],
      "source": [
        "buddy.species"
      ]
    },
    {
      "cell_type": "markdown",
      "metadata": {
        "id": "pmZY3J1RKhhm"
      },
      "source": [
        "One of the biggest advantages of using classes to organize data is that instances are guaranteed to have the attributes you expect. All Dog instances have .species, .name, and .age attributes, so you can use those attributes with confidence knowing that they will always return a value.\n",
        "\n",
        "Note that the values of the attributes can be altered dynamically"
      ]
    },
    {
      "cell_type": "code",
      "execution_count": null,
      "metadata": {
        "colab": {
          "base_uri": "https://localhost:8080/"
        },
        "id": "TEAe0JUJKhhm",
        "outputId": "ca749913-90dd-4fc6-cc7e-0fc13b740c24"
      },
      "outputs": [
        {
          "output_type": "execute_result",
          "data": {
            "text/plain": [
              "10"
            ]
          },
          "metadata": {},
          "execution_count": 14
        }
      ],
      "source": [
        "buddy.age = 10\n",
        "buddy.age"
      ]
    },
    {
      "cell_type": "markdown",
      "metadata": {
        "id": "LKDOfdHlKhhm"
      },
      "source": [
        "## Instance Methods"
      ]
    },
    {
      "cell_type": "code",
      "execution_count": null,
      "metadata": {
        "id": "i8544uENKhhn"
      },
      "outputs": [],
      "source": [
        "class Dog:\n",
        "    species = \"Canis familiaris\"\n",
        "    \n",
        "    def __init__(self,name,age):\n",
        "        self.name = name\n",
        "        self.age = age\n",
        "     \n",
        "    # Instance method\n",
        "    def description(self):\n",
        "        return f\"{self.name} is {self.age} years old\"\n",
        "    \n",
        "    # Another instance method\n",
        "    def speak(self,sound):\n",
        "        return f\"{self.name} says {sound}\""
      ]
    },
    {
      "cell_type": "code",
      "execution_count": null,
      "metadata": {
        "id": "881FbMsOKhhn"
      },
      "outputs": [],
      "source": [
        "miles = Dog(\"Miles\",4)"
      ]
    },
    {
      "cell_type": "code",
      "execution_count": null,
      "metadata": {
        "colab": {
          "base_uri": "https://localhost:8080/",
          "height": 35
        },
        "id": "XurixB4MKhhn",
        "outputId": "6992229b-056e-4776-9dec-7e335e8a2b31"
      },
      "outputs": [
        {
          "output_type": "execute_result",
          "data": {
            "text/plain": [
              "'Miles is 4 years old'"
            ],
            "application/vnd.google.colaboratory.intrinsic+json": {
              "type": "string"
            }
          },
          "metadata": {},
          "execution_count": 17
        }
      ],
      "source": [
        "miles.description()"
      ]
    },
    {
      "cell_type": "code",
      "execution_count": null,
      "metadata": {
        "colab": {
          "base_uri": "https://localhost:8080/",
          "height": 35
        },
        "id": "Hw3Fcg27Khhn",
        "outputId": "8ee24d51-7cb1-4dd4-9a0f-797bd51c754e"
      },
      "outputs": [
        {
          "output_type": "execute_result",
          "data": {
            "text/plain": [
              "'Miles says Bow Wow!'"
            ],
            "application/vnd.google.colaboratory.intrinsic+json": {
              "type": "string"
            }
          },
          "metadata": {},
          "execution_count": 18
        }
      ],
      "source": [
        "miles.speak(\"Bow Wow!\")"
      ]
    },
    {
      "cell_type": "code",
      "execution_count": null,
      "metadata": {
        "colab": {
          "base_uri": "https://localhost:8080/"
        },
        "id": "UU0ZR07eKhhn",
        "outputId": "4616e2d3-d73b-4fd2-f12c-8d31859d48f2"
      },
      "outputs": [
        {
          "output_type": "stream",
          "name": "stdout",
          "text": [
            "<__main__.Dog object at 0x7ffad638be80>\n"
          ]
        }
      ],
      "source": [
        "print(miles)"
      ]
    },
    {
      "cell_type": "markdown",
      "metadata": {
        "id": "4esOYwlzKhho"
      },
      "source": [
        "When writing your own classes, it’s a good idea to have a method that returns a string containing useful information about an instance of the class. However, .description() isn’t the most Pythonic way of doing this.\n",
        "\n",
        "This is not very useful. Hence, instead of using description, we use a special instance method `__str__()`."
      ]
    },
    {
      "cell_type": "code",
      "execution_count": null,
      "metadata": {
        "id": "kk570fv6Khho"
      },
      "outputs": [],
      "source": [
        "class Dog:\n",
        "    species = \"Canis familiaris\"\n",
        "    \n",
        "    def __init__(self,name,age):\n",
        "        self.name = name\n",
        "        self.age = age\n",
        "     \n",
        "    # Instance method\n",
        "    def __str__(self):\n",
        "        return f\"{self.name} is {self.age} years old\""
      ]
    },
    {
      "cell_type": "code",
      "execution_count": null,
      "metadata": {
        "id": "knsKJPmUKhho"
      },
      "outputs": [],
      "source": [
        "miles = Dog(\"Miles\",4)"
      ]
    },
    {
      "cell_type": "code",
      "execution_count": null,
      "metadata": {
        "colab": {
          "base_uri": "https://localhost:8080/"
        },
        "id": "Yfx7p0TVKhho",
        "outputId": "b543a37b-bc92-439b-a14e-0adea0dca24b"
      },
      "outputs": [
        {
          "output_type": "stream",
          "name": "stdout",
          "text": [
            "Miles is 4 years old\n"
          ]
        }
      ],
      "source": [
        "print(miles)"
      ]
    },
    {
      "cell_type": "markdown",
      "metadata": {
        "id": "ldY-dgD0Khho"
      },
      "source": [
        "Methods like `.__init__()` and `.__str__()` are called **dunder methods** because they **begin and end with double underscores.** There are many dunder methods that you can use to customize classes in Python"
      ]
    },
    {
      "cell_type": "markdown",
      "metadata": {
        "id": "cPLY5tToKhhp"
      },
      "source": [
        "## Check your understanding\n",
        "\n",
        "Create a Car class with two instance attributes:\n",
        "\n",
        ".color, which stores the name of the car’s color as a string\n",
        ".mileage, which stores the number of miles on the car as an integer\n",
        "Then instantiate two Car objects—a blue car with 20,000 miles and a red car with 30,000 miles—and print out their colors and mileage"
      ]
    },
    {
      "cell_type": "code",
      "execution_count": null,
      "metadata": {
        "id": "_XLw_QG5Khhq"
      },
      "outputs": [],
      "source": [
        "class Car:\n",
        "    \n",
        "    def __init__(self,color,mileage):\n",
        "        self.color = color\n",
        "        self.mileage = mileage\n",
        "        \n",
        "    def __str__(self):\n",
        "        return f\"The {self.color} car has {self.mileage:,} miles.\""
      ]
    },
    {
      "cell_type": "code",
      "execution_count": null,
      "metadata": {
        "id": "4el_VpppKhhq"
      },
      "outputs": [],
      "source": [
        "car = Car(\"blue\",20_000)"
      ]
    },
    {
      "cell_type": "code",
      "execution_count": null,
      "metadata": {
        "colab": {
          "base_uri": "https://localhost:8080/"
        },
        "id": "8MrLE20QKhhq",
        "outputId": "22543f1a-1d9f-4227-99cd-d4d732f883bd"
      },
      "outputs": [
        {
          "output_type": "stream",
          "name": "stdout",
          "text": [
            "The blue car has 20,000 miles.\n"
          ]
        }
      ],
      "source": [
        "print(car)"
      ]
    },
    {
      "cell_type": "code",
      "execution_count": null,
      "metadata": {
        "id": "smUF_oH1Khhq"
      },
      "outputs": [],
      "source": [
        "car = Car(\"red\",30000)"
      ]
    },
    {
      "cell_type": "code",
      "execution_count": null,
      "metadata": {
        "colab": {
          "base_uri": "https://localhost:8080/"
        },
        "id": "-fJc7tV3Khhr",
        "outputId": "77c52c9f-b5f6-4fcb-e1e7-0a3b6b1b92bf"
      },
      "outputs": [
        {
          "output_type": "stream",
          "name": "stdout",
          "text": [
            "The red car has 30,000 miles.\n"
          ]
        }
      ],
      "source": [
        "print(car)"
      ]
    },
    {
      "cell_type": "markdown",
      "metadata": {
        "id": "Qn9OZ4FJKhhr"
      },
      "source": [
        "## Inherit From Other Classes in Python"
      ]
    },
    {
      "cell_type": "markdown",
      "metadata": {
        "id": "WTrp9w8tKhhr"
      },
      "source": [
        "Inheritance is the process of creating a new class based on an existing class, where the new class inherits the properties and methods of the existing class. The existing class is called the parent class or base class, and the new class is called the child class or derived class.\n",
        "\n",
        "Child classes can override or extend the attributes and methods of parent classes. In other words, child classes inherit all of the parent’s attributes and methods but can also specify attributes and methods that are unique to themselves."
      ]
    },
    {
      "cell_type": "markdown",
      "metadata": {
        "id": "Q1Lci9hRKhhr"
      },
      "source": [
        "Assume you are in a dog park, with various breeds of dogs exhibiting variety of behaviours\n",
        "\n",
        "The Dog class that we wrote earlier will help to distinguish dogs by name and age but NOT by breed. So we need to modify the Dog class by including a breed attribute."
      ]
    },
    {
      "cell_type": "code",
      "execution_count": null,
      "metadata": {
        "id": "vubTTg8uKhhr"
      },
      "outputs": [],
      "source": [
        "class Dog:\n",
        "    species = \"Canis familiaris\"\n",
        "    \n",
        "    def __init__(self,name,age,breed):\n",
        "        self.name = name\n",
        "        self.age = age\n",
        "        self.breed = breed \n",
        "        \n",
        "    # Instance method\n",
        "    def __str__(self):\n",
        "        return f\"{self.name} is {self.age} years old\"\n",
        "    \n",
        "    # Another instance method\n",
        "    def speak(self,sound):\n",
        "        return f\"{self.name} says {sound}\""
      ]
    },
    {
      "cell_type": "code",
      "execution_count": null,
      "metadata": {
        "id": "v4JXT-MZKhhs"
      },
      "outputs": [],
      "source": [
        "miles = Dog(\"Miles\",4,\"Jack Russell Terrier\")\n",
        "buddy = Dog(\"Buddy\", 9, \"Dachshund\")\n",
        "jack = Dog(\"Jack\", 3, \"Bulldog\")\n",
        "jim = Dog(\"Jim\", 5, \"Bulldog\")"
      ]
    },
    {
      "cell_type": "code",
      "execution_count": null,
      "metadata": {
        "colab": {
          "base_uri": "https://localhost:8080/",
          "height": 35
        },
        "id": "s7bAFuTdKhhs",
        "outputId": "a7a1dd29-fced-40de-b667-f865803dca6c"
      },
      "outputs": [
        {
          "output_type": "execute_result",
          "data": {
            "text/plain": [
              "'Buddy says Yap'"
            ],
            "application/vnd.google.colaboratory.intrinsic+json": {
              "type": "string"
            }
          },
          "metadata": {},
          "execution_count": 30
        }
      ],
      "source": [
        "buddy.speak(\"Yap\")"
      ]
    },
    {
      "cell_type": "markdown",
      "metadata": {
        "id": "GjEx4daOKhhs"
      },
      "source": [
        "Passing a string to every call to .speak() is repetitive and inconvenient. Moreover, the string representing the sound that each Dog instance makes should be determined by its .breed attribute, but here you have to manually pass the correct string to .speak() every time it’s called.\n",
        "\n",
        "You can simplify the experience of working with the Dog class by creating a **child class for each breed of dog.** This allows you to extend the functionality that each child class inherits, including specifying a default argument for .speak()."
      ]
    },
    {
      "cell_type": "markdown",
      "metadata": {
        "id": "FUtWSqOGKhht"
      },
      "source": [
        "## Parent Classes vs Child Classes\n",
        "\n",
        "Let’s create a child class for each of the three breeds mentioned above: Jack Russell Terrier, Dachshund, and Bulldog.\n",
        "\n",
        "Remember, to create a child class, you create new class with its own name and then put the name of the parent class in parentheses. Add the following to the class code to create three new child classes of the Dog class.\n",
        "\n",
        "**Note:** Python class names are written in CapitalizedWords notation by convention. For example, a class for a specific breed of dog like the Jack Russell Terrier would be written as JackRussellTerrier."
      ]
    },
    {
      "cell_type": "code",
      "execution_count": null,
      "metadata": {
        "id": "nvZg_wb4Khht"
      },
      "outputs": [],
      "source": [
        "class Dog:\n",
        "    species = \"Canis familiaris\"\n",
        "    \n",
        "    def __init__(self,name,age):\n",
        "        self.name = name\n",
        "        self.age = age\n",
        "        \n",
        "        \n",
        "    # Instance method\n",
        "    def __str__(self):\n",
        "        return f\"{self.name} is {self.age} years old\"\n",
        "    \n",
        "    # Another instance method\n",
        "    def speak(self,sound):\n",
        "        return f\"{self.name} says {sound}\"\n",
        "    \n",
        "class JackRussellTerrier(Dog): # child class\n",
        "    pass\n",
        "\n",
        "class Dachshund(Dog): # another child class\n",
        "    pass\n",
        "\n",
        "class Bulldog(Dog): # another child class\n",
        "    pass"
      ]
    },
    {
      "cell_type": "code",
      "execution_count": null,
      "metadata": {
        "id": "HxOnjn9BKhhu"
      },
      "outputs": [],
      "source": [
        "miles = JackRussellTerrier(\"Miles\", 4)\n",
        "buddy = Dachshund(\"Buddy\", 9)\n",
        "jack = Bulldog(\"Jack\", 3)\n",
        "jim = Bulldog(\"Jim\", 5)"
      ]
    },
    {
      "cell_type": "code",
      "execution_count": null,
      "metadata": {
        "colab": {
          "base_uri": "https://localhost:8080/"
        },
        "id": "iMvUFw5CKhhv",
        "outputId": "8a5bb026-ab53-4019-d737-e9243f90fd04"
      },
      "outputs": [
        {
          "output_type": "stream",
          "name": "stdout",
          "text": [
            "Jack is 3 years old\n"
          ]
        }
      ],
      "source": [
        "print(jack)"
      ]
    },
    {
      "cell_type": "code",
      "execution_count": null,
      "metadata": {
        "colab": {
          "base_uri": "https://localhost:8080/",
          "height": 35
        },
        "id": "79ZCmVrkKhhv",
        "outputId": "a55fbf9e-ad5b-43dc-dc52-00de0f32cebe"
      },
      "outputs": [
        {
          "output_type": "execute_result",
          "data": {
            "text/plain": [
              "'Jack says Woof'"
            ],
            "application/vnd.google.colaboratory.intrinsic+json": {
              "type": "string"
            }
          },
          "metadata": {},
          "execution_count": 34
        }
      ],
      "source": [
        "jack.speak('Woof')"
      ]
    },
    {
      "cell_type": "code",
      "execution_count": null,
      "metadata": {
        "colab": {
          "base_uri": "https://localhost:8080/"
        },
        "id": "eFkmblPoKhhv",
        "outputId": "4e8ba02b-7e8c-4755-c030-75ee78226f29"
      },
      "outputs": [
        {
          "output_type": "execute_result",
          "data": {
            "text/plain": [
              "__main__.JackRussellTerrier"
            ]
          },
          "metadata": {},
          "execution_count": 35
        }
      ],
      "source": [
        "type(miles)"
      ]
    },
    {
      "cell_type": "code",
      "execution_count": null,
      "metadata": {
        "colab": {
          "base_uri": "https://localhost:8080/"
        },
        "id": "dc3gC2D6Khhw",
        "outputId": "3529af23-f4b0-4c43-cbc0-8d9fbb6da936"
      },
      "outputs": [
        {
          "output_type": "execute_result",
          "data": {
            "text/plain": [
              "True"
            ]
          },
          "metadata": {},
          "execution_count": 36
        }
      ],
      "source": [
        "isinstance(miles,Dog)"
      ]
    },
    {
      "cell_type": "code",
      "execution_count": null,
      "metadata": {
        "colab": {
          "base_uri": "https://localhost:8080/"
        },
        "id": "F2wSTnMGKhhw",
        "outputId": "fbb33f9f-3405-4d12-ef49-a8ad4e6580dc"
      },
      "outputs": [
        {
          "output_type": "execute_result",
          "data": {
            "text/plain": [
              "False"
            ]
          },
          "metadata": {},
          "execution_count": 37
        }
      ],
      "source": [
        "isinstance(miles,Bulldog)"
      ]
    },
    {
      "cell_type": "markdown",
      "metadata": {
        "id": "xZUhcEp0Khhw"
      },
      "source": [
        "Generally, all objects created from a child class are instances of the parent class, although they may not be instances of other child classes."
      ]
    },
    {
      "cell_type": "markdown",
      "metadata": {
        "id": "pY3L9msLKhhx"
      },
      "source": [
        "## Extend the Functionality of a Parent Class"
      ]
    },
    {
      "cell_type": "markdown",
      "metadata": {
        "id": "jovgmOlNKhhx"
      },
      "source": [
        "Since different breeds of dogs have slightly different barks, you want to provide a default value for the sound argument of their respective .speak() methods. To do this, you need to override .speak() in the class definition for each breed.\n",
        "\n",
        "To override a method defined on the parent class, you define a method with the same name on the child class. Here’s what that looks like for the JackRussellTerrier class:"
      ]
    },
    {
      "cell_type": "code",
      "execution_count": null,
      "metadata": {
        "id": "0VF2Iu3UKhhx"
      },
      "outputs": [],
      "source": [
        "class Dog:\n",
        "    species = \"Canis familiaris\"\n",
        "    \n",
        "    def __init__(self,name,age):\n",
        "        self.name = name\n",
        "        self.age = age\n",
        "        \n",
        "        \n",
        "    # Instance method\n",
        "    def __str__(self):\n",
        "        return f\"{self.name} is {self.age} years old\"\n",
        "    \n",
        "    # Another instance method\n",
        "    def speak(self,sound):\n",
        "        return f\"{self.name} says {sound}\"\n",
        "    \n",
        "class JackRussellTerrier(Dog): # child class\n",
        "    def speak(self,sound='Arf'):\n",
        "        return f\"{self.name} says {sound}\""
      ]
    },
    {
      "cell_type": "code",
      "execution_count": null,
      "metadata": {
        "id": "_Db7ZF3WKhhx"
      },
      "outputs": [],
      "source": [
        "miles = JackRussellTerrier(\"Miles\", 4)"
      ]
    },
    {
      "cell_type": "code",
      "execution_count": null,
      "metadata": {
        "colab": {
          "base_uri": "https://localhost:8080/",
          "height": 35
        },
        "id": "Fc0H4ttVKhhx",
        "outputId": "5b8a5fb4-da8f-4b43-fc95-5d5194860ad3"
      },
      "outputs": [
        {
          "output_type": "execute_result",
          "data": {
            "text/plain": [
              "'Miles says Arf'"
            ],
            "application/vnd.google.colaboratory.intrinsic+json": {
              "type": "string"
            }
          },
          "metadata": {},
          "execution_count": 40
        }
      ],
      "source": [
        "miles.speak()"
      ]
    },
    {
      "cell_type": "markdown",
      "metadata": {
        "id": "PYKwuCtrKhhy"
      },
      "source": [
        "## Check your understanding\n",
        "\n",
        "Create a GoldenRetriever class that inherits from the Dog class. Give the sound argument of GoldenRetriever.speak() a default value of \"Bark\". Use the following code for your parent Dog class:"
      ]
    },
    {
      "cell_type": "code",
      "execution_count": null,
      "metadata": {
        "id": "is7Og4roKhhy"
      },
      "outputs": [],
      "source": [
        "class Dog:\n",
        "    species = \"Canis familiaris\"\n",
        "    \n",
        "    def __init__(self,name,age):\n",
        "        self.name = name\n",
        "        self.age = age\n",
        "        \n",
        "        \n",
        "    # Instance method\n",
        "    def __str__(self):\n",
        "        return f\"{self.name} is {self.age} years old\"\n",
        "    \n",
        "    # Another instance method\n",
        "    def speak(self,sound):\n",
        "        return f\"{self.name} says {sound}\"\n",
        "    \n",
        "class GoldenRetriever(Dog):\n",
        "    def speak(self,sound='Bark'):\n",
        "        return super().speak(sound)"
      ]
    },
    {
      "cell_type": "markdown",
      "metadata": {
        "id": "ndbj9UmHKhhy"
      },
      "source": [
        "Sometimes it makes sense to completely override a method from a parent class. But in this instance, we don’t want the JackRussellTerrier class to lose any changes that might be made to the formatting of the output string of Dog.speak().\n",
        "\n",
        "To do this, you still need to define a .speak() method on the child JackRussellTerrier class. But instead of explicitly defining the output string, you need to call the Dog class’s .speak() inside of the child class’s .speak() using the same arguments that you passed to JackRussellTerrier.speak().\n",
        "\n",
        "You can access the parent class from inside a method of a child class by using super():"
      ]
    },
    {
      "cell_type": "code",
      "execution_count": null,
      "metadata": {
        "id": "CBD8fRfQKhhy"
      },
      "outputs": [],
      "source": []
    }
  ],
  "metadata": {
    "kernelspec": {
      "display_name": "Python 3",
      "language": "python",
      "name": "python3"
    },
    "language_info": {
      "codemirror_mode": {
        "name": "ipython",
        "version": 3
      },
      "file_extension": ".py",
      "mimetype": "text/x-python",
      "name": "python",
      "nbconvert_exporter": "python",
      "pygments_lexer": "ipython3",
      "version": "3.8.5"
    },
    "colab": {
      "provenance": [],
      "include_colab_link": true
    }
  },
  "nbformat": 4,
  "nbformat_minor": 0
}