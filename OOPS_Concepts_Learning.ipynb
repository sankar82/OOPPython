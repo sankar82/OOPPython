{
  "cells": [
    {
      "cell_type": "markdown",
      "metadata": {
        "id": "view-in-github",
        "colab_type": "text"
      },
      "source": [
        "<a href=\"https://colab.research.google.com/github/sankar82/OOPPython/blob/main/OOPS_Concepts_Learning.ipynb\" target=\"_parent\"><img src=\"https://colab.research.google.com/assets/colab-badge.svg\" alt=\"Open In Colab\"/></a>"
      ]
    },
    {
      "cell_type": "markdown",
      "metadata": {
        "id": "5L7gkhRPKOo-"
      },
      "source": [
        "# OOPS Concept Learning in Simple terms"
      ]
    },
    {
      "cell_type": "markdown",
      "metadata": {
        "id": "shp1XmVQKOpF"
      },
      "source": [
        "## Curriculum\n",
        "\n",
        "**Day 1:** Introduction to OOP Concepts - Understanding what is OOP, why it's useful, and its key principles (Encapsulation, Inheritance, Polymorphism, and Abstraction).\n",
        "\n",
        "**Day 2:** Python Classes and Objects - Learning about classes, objects, attributes, and methods in Python.\n",
        "\n",
        "**Day 3:**Python Constructors and Destructors - Understanding special methods like __init__ and __del__.\n",
        "\n",
        "**Day 4:** Inheritance in Python - Introduction to inheritance, creating child classes, method overriding, and multiple inheritance.\n",
        "\n",
        "**Day 5:** Polymorphism and Abstraction in Python - Understanding the concepts of polymorphism and abstraction in Python.\n",
        "\n",
        "***Note: Some of the topics like Abstraction are not covered in detail. I might add in future as and when I learn in more depth***"
      ]
    },
    {
      "cell_type": "code",
      "execution_count": null,
      "metadata": {
        "id": "NKU2Jx1KKOpG"
      },
      "outputs": [],
      "source": [
        "# https://realpython.com/courses/intro-object-oriented-programming-oop-python/\n",
        "# https://realpython.com/python3-object-oriented-programming/"
      ]
    },
    {
      "cell_type": "markdown",
      "metadata": {
        "id": "AAlriYn0KOpI"
      },
      "source": [
        "## **What is OOPS?**\n",
        "\n",
        "OOPS stands for Object-Oriented Programming System, which is a **way of organizing and designing computer programs** so that **properties and behaviors are bundled into individual objects.** \n",
        "\n",
        "OOPS is based on the concept of \"objects\", which are instances of \"classes.\" \n",
        "\n",
        "**A \"class\" is essentially a blueprint or a template for creating objects.** It defines the properties and behaviors that objects of that class will have. For example, a class called \"Car\" might define properties such as \"make\", \"model\", and \"year\", as well as behaviors such as \"start engine\", \"accelerate\", and \"brake\".\n",
        "\n",
        "**An \"object\" is an instance of a class.** It is created using the blueprint provided by the class, and has its own unique set of values for the properties defined by the class. For example, an object of the \"Car\" class might have the make \"Toyota\", the model \"Camry\", and the year \"2018\".\n",
        "\n",
        "In simpler terms, a class is like a blueprint for creating objects, and an object is like a specific instance of that blueprint. Just like how a blueprint can be used to create many buildings that share the same design, a class can be used to create many objects that share the same properties and behaviors.\n",
        "\n",
        "The 4 key principles of object-oriented programming (OOP) are:\n",
        "\n",
        "**1. Encapsulation**\n",
        "**2. Inheritance**\n",
        "**3. Polymorphism**\n",
        "**4. Abstraction**\n",
        "\n",
        "**Encapsulation:** Encapsulation is the technique of **hiding the internal workings of an object and providing access to the object's properties and methods through a public interface.** It means that the user only needs to know how to use the object's methods and properties, without knowing how they work under the hood. It’s a protective barrier that keeps the data and code safe within the class itself. This also makes the concept of data hiding possible.\n",
        "\n",
        "**Inheritance:** Inheritance is the **process of creating a new class based on an existing class, where the new class inherits the properties and methods of the existing class.** The existing class is called the **parent class or super class**, and the new class is called the **child class or sub class.**\n",
        "\n",
        "**Polymorphism:**   Polymorphism is the ability of **objects of different classes to be treated as if they were objects of the same class.** This is due to inheritance and this is possible because they share a common interface (*Refer to make_sound() method in the Polymorphism section*), which allows them to be used interchangeably in certain situations. This means that we can have different objects with different behaviors but with a common interface. \n",
        "\n",
        "**Abstraction:** Abstraction is the process of hiding complex implementation details and showing only the necessary information to the user. It means that we only expose the essential features of an object and hide the rest of the details.\n",
        "\n",
        "Think of OOP in Python like creating a blueprint for a house. The blueprint itself is like a class in Python. It contains all the details about the floors, doors, windows, etc. Based on this blueprint, you can build a house. The house is like an object, an instance of the class."
      ]
    },
    {
      "cell_type": "code",
      "execution_count": null,
      "metadata": {
        "id": "Jhw1vfeBKOpJ"
      },
      "outputs": [],
      "source": []
    },
    {
      "cell_type": "markdown",
      "metadata": {
        "id": "6hstPRwLKOpJ"
      },
      "source": [
        "## Examples of the 4 principles\n",
        "\n",
        "\n",
        "Let's go through each of these concepts and explain them with simple examples.\n",
        "\n",
        "**1. Encapsulation:**\n",
        "\n",
        "For example, let's say we have a class called Car that has properties like make, model, and year. We can encapsulate these properties by making them private and providing public methods like getMake(), getModel(), and getYear() to access them. This way, the user can only interact with the object through these public methods, and they don't need to know how the properties are stored or manipulated within the object.\n",
        "\n",
        "Encapsulation is about hiding the internal states and functionality of objects, and exposing only what's necessary. It's like the inner workings of a car – you don't need to know how the engine works in order to drive the car. You only need to know how to interact with the car's controls like the steering wheel, pedals, and buttons. In programming terms, this is accomplished by making the data fields private and providing public methods (getters and setters) for accessing and modifying them.\n",
        "\n",
        "**2. Inheritance:**\n",
        "\n",
        "For example, let's say we have a class called Animal with properties like name and age, and methods like eat() and sleep(). We can create a child class called Cat that inherits from Animal and adds its own properties and methods. The Cat class would have access to all the properties and methods of Animal, and we can add new properties and methods specific to cats, like color and meow().\n",
        "\n",
        "**3. Polymorphism:**\n",
        "\n",
        "For example, let's say we have a class called Shape with a method called area(). We can create different child classes like Circle and Rectangle that inherit from Shape and override the area() method to calculate the area of the circle or rectangle. Now, we can create an array of Shape objects and add both circles and rectangles to it. When we call the area() method on each object, the appropriate method for each object will be called based on its class.\n",
        "\n",
        "**4. Abstraction:**\n",
        "\n",
        "For example, let's say we have a class called BankAccount with properties like balance and methods like deposit() and withdraw(). We can abstract away the implementation details of the class and provide a simple interface to the user with methodslike getBalance() and makeTransaction(), which shows only the necessary information to the user and hides the complex implementation details of how the transactions are processed and how the balance is calculated.\n",
        "\n",
        "On the other hand, abstraction is a broader concept. It involves simplifying complex systems by breaking them down into smaller, more manageable parts, and providing simple interfaces for interacting with the system. It's like the dashboard of the car – it abstracts away the complexity of the car's systems and provides you with a simple interface (speedometer, fuel gauge, etc.) for understanding what's happening."
      ]
    },
    {
      "cell_type": "code",
      "execution_count": null,
      "metadata": {
        "id": "tUF-_eBdKOpK"
      },
      "outputs": [],
      "source": []
    },
    {
      "cell_type": "markdown",
      "metadata": {
        "id": "QG5txIP7KOpK"
      },
      "source": [
        "**Both encapsulation and abstraction sound similar. What is the difference between the two?**\n",
        "\n",
        "This is a common source of confusion. While both encapsulation and abstraction deal with hiding complexity, they do so in slightly different ways.\n",
        "\n",
        "**Encapsulation is about hiding the internal states and functionality of objects, and exposing only what's necessary.** It's like the inner workings of a car – you don't need to know how the engine works in order to drive the car. You only need to know how to interact with the car's controls like the steering wheel, pedals, and buttons. In programming terms, this is accomplished by making the data fields private and providing public methods (getters and setters) for accessing and modifying them.\n",
        "\n",
        "On the other hand, abstraction is a broader concept. It involves **simplifying complex systems by breaking them down into smaller, more manageable parts, and providing simple interfaces for interacting with the system.** It's like the dashboard of the car – it abstracts away the complexity of the car's systems and provides you with a simple interface (speedometer, fuel gauge, etc.) for understanding what's happening.\n",
        "\n",
        "So in a nutshell, **encapsulation is about data hiding and protection, while abstraction is about simplifying complexity.**"
      ]
    },
    {
      "cell_type": "markdown",
      "metadata": {
        "id": "k0gya_wvKOpL"
      },
      "source": [
        "\n",
        "\n",
        "\n"
      ]
    },
    {
      "cell_type": "code",
      "execution_count": null,
      "metadata": {
        "id": "6IXR1gbpKOpL"
      },
      "outputs": [],
      "source": []
    },
    {
      "cell_type": "markdown",
      "metadata": {
        "id": "vUFbgvP_KOpM"
      },
      "source": [
        "Fantastic! Let's move on to Day 2: Python Classes and Objects.\n",
        "\n",
        "In Python, a class is a blueprint for creating objects. An object is an instance of a class, with its own set of values for the attributes that have been defined by the class.\n",
        "\n",
        "A class is defined using the class keyword. Let's create a simple class:"
      ]
    },
    {
      "cell_type": "code",
      "execution_count": null,
      "metadata": {
        "id": "Ofvx79xHKOpM"
      },
      "outputs": [],
      "source": [
        "class Car:\n",
        "    color = \"blue\"\n",
        "    brand = \"Toyota\""
      ]
    },
    {
      "cell_type": "markdown",
      "metadata": {
        "id": "26wG7PifKOpN"
      },
      "source": [
        "In this example, **Car is the class**, and it has **two attributes: color and brand.**\n",
        "\n",
        "An object is an instance of a class. We can create an object of the Car class like this:"
      ]
    },
    {
      "cell_type": "code",
      "execution_count": null,
      "metadata": {
        "id": "5JOURbRqKOpN"
      },
      "outputs": [],
      "source": [
        "my_car = Car()\n",
        "# This is instantiation or creating an instance."
      ]
    },
    {
      "cell_type": "markdown",
      "metadata": {
        "id": "60zUuwTJKOpN"
      },
      "source": [
        "Now, my_car is an object of the Car class. We can access the attributes of my_car using the dot operator:\n",
        "\n",
        "This is similar to how we access shape, and other attributes"
      ]
    },
    {
      "cell_type": "code",
      "execution_count": null,
      "metadata": {
        "colab": {
          "base_uri": "https://localhost:8080/"
        },
        "id": "-OUWWy5GKOpN",
        "outputId": "a086c368-c5c9-4651-9230-7521d6749019"
      },
      "outputs": [
        {
          "output_type": "stream",
          "name": "stdout",
          "text": [
            "blue\n",
            "Toyota\n"
          ]
        }
      ],
      "source": [
        "print(my_car.color)  # Outputs: blue\n",
        "print(my_car.brand)  # Outputs: Toyota"
      ]
    },
    {
      "cell_type": "markdown",
      "metadata": {
        "id": "_L0BDnOxKOpO"
      },
      "source": [
        "Methods are functions that belong to a class. For example, let's add a honk method to our Car class:"
      ]
    },
    {
      "cell_type": "code",
      "execution_count": null,
      "metadata": {
        "id": "xGKV3tDlKOpO"
      },
      "outputs": [],
      "source": [
        "class Car:\n",
        "    color = \"blue\"\n",
        "    brand = \"Toyota\"\n",
        "    \n",
        "    def honk(self):\n",
        "        print(\"Beep beep!\")"
      ]
    },
    {
      "cell_type": "code",
      "execution_count": null,
      "metadata": {
        "colab": {
          "base_uri": "https://localhost:8080/"
        },
        "id": "VLp8S4tjKOpP",
        "outputId": "f05b4a23-ab42-479d-ab54-ff71536855b2"
      },
      "outputs": [
        {
          "output_type": "stream",
          "name": "stdout",
          "text": [
            "Beep beep!\n"
          ]
        }
      ],
      "source": [
        "# We can call this method on an instance of the class like this:\n",
        "my_car = Car()\n",
        "my_car.honk()  # Outputs: Beep beep!"
      ]
    },
    {
      "cell_type": "markdown",
      "metadata": {
        "id": "tf45ln-DKOpP"
      },
      "source": [
        "In the method definition, **self is a special parameter that refers to the instance of the class. It's automatically passed in when you call a method on an object.**"
      ]
    },
    {
      "cell_type": "code",
      "execution_count": null,
      "metadata": {
        "id": "R-PEs49YKOpP"
      },
      "outputs": [],
      "source": [
        "class Dog:\n",
        "    name = 'name'\n",
        "    \n",
        "    def bark(self):\n",
        "        print(\"Woof Woof!\")"
      ]
    },
    {
      "cell_type": "code",
      "execution_count": null,
      "metadata": {
        "colab": {
          "base_uri": "https://localhost:8080/"
        },
        "id": "lXPYFKGsKOpP",
        "outputId": "453b8b99-eea5-40e0-cb36-4730d9e0e06a"
      },
      "outputs": [
        {
          "output_type": "stream",
          "name": "stdout",
          "text": [
            "Woof Woof!\n",
            "None\n"
          ]
        }
      ],
      "source": [
        "my_dog = Dog()\n",
        "print(my_dog.bark())"
      ]
    },
    {
      "cell_type": "code",
      "execution_count": null,
      "metadata": {
        "id": "sZi1ltonKOpQ"
      },
      "outputs": [],
      "source": []
    },
    {
      "cell_type": "markdown",
      "metadata": {
        "id": "yed21Y5kKOpQ"
      },
      "source": [
        "Now, let's go a bit deeper. You've seen that we can define attributes at the class level, like color and brand for Car, or name for Dog. **These attributes are shared by all instances of the class, they're \"class attributes\".** However, often we want to have **attributes that are specific to each instance of the class, like the name of a specific dog.** That's where instance attributes come in.\n",
        "\n",
        "Instance attributes are defined within methods, and they are prefixed with self. For example:"
      ]
    },
    {
      "cell_type": "code",
      "execution_count": null,
      "metadata": {
        "colab": {
          "base_uri": "https://localhost:8080/"
        },
        "id": "odTm6Fs3KOpQ",
        "outputId": "d7348588-2976-4fd3-ee13-6771962bc3bd"
      },
      "outputs": [
        {
          "output_type": "stream",
          "name": "stdout",
          "text": [
            "Fido\n"
          ]
        }
      ],
      "source": [
        "class Dog:\n",
        "    def set_name(self, new_name):\n",
        "        self.name = new_name\n",
        "\n",
        "my_dog = Dog()\n",
        "my_dog.set_name(\"Fido\")\n",
        "print(my_dog.name)  # Outputs: Fido\n",
        "\n",
        "# In this example, name is an instance attribute. Each Dog object can have its own name."
      ]
    },
    {
      "cell_type": "markdown",
      "metadata": {
        "id": "x4hrTugoKOpQ"
      },
      "source": []
    },
    {
      "cell_type": "code",
      "execution_count": null,
      "metadata": {
        "id": "CvRS1j7bKOpR"
      },
      "outputs": [],
      "source": [
        "# For the sake of learning, let's create another class, Cat, with an instance attribute color. Here is the Cat class:\n",
        "class Cat:\n",
        "    def set_color(self, new_color):\n",
        "        self.color = new_color"
      ]
    },
    {
      "cell_type": "code",
      "execution_count": null,
      "metadata": {
        "colab": {
          "base_uri": "https://localhost:8080/"
        },
        "id": "33D1T9eJKOpR",
        "outputId": "f7b895a4-0514-4167-c21b-405565b843de"
      },
      "outputs": [
        {
          "output_type": "stream",
          "name": "stdout",
          "text": [
            "Black\n"
          ]
        }
      ],
      "source": [
        "# In this class, set_color is a method that sets the color instance attribute to whatever string you pass to it. \n",
        "# Here's how you would create a new cat and give it a color:\n",
        "my_cat = Cat()\n",
        "my_cat.set_color(\"Black\")\n",
        "print(my_cat.color)  # Outputs: Black"
      ]
    },
    {
      "cell_type": "markdown",
      "metadata": {
        "id": "TJrsl2ewKOpS"
      },
      "source": [
        "my_cat = Cat()\n",
        "my_cat.set_color(\"Black\")\n",
        "print(my_cat.color)  # Outputs: Black"
      ]
    },
    {
      "cell_type": "code",
      "execution_count": null,
      "metadata": {
        "colab": {
          "base_uri": "https://localhost:8080/"
        },
        "id": "GOGp4Ke_KOpS",
        "outputId": "9562de3d-ebd3-4afd-df97-9994e09c004f"
      },
      "outputs": [
        {
          "output_type": "stream",
          "name": "stdout",
          "text": [
            "White\n"
          ]
        }
      ],
      "source": [
        "# set_color is a method that sets the 'color' n instance attribute to any string that we pass to it\n",
        "my_cat = Cat()\n",
        "my_cat.set_color('White')\n",
        "print(my_cat.color)"
      ]
    },
    {
      "cell_type": "markdown",
      "metadata": {
        "id": "uVn-lz3xKOpT"
      },
      "source": [
        "You've successfully created a Cat object and set its color to \"White\". The set_color method is indeed used to set the color of a Cat object to whatever string you pass to it.\n",
        "\n",
        "Now that we've covered instance attributes and methods, let's move on to a very important concept in object-oriented programming: **constructors.**\n",
        "\n",
        "A constructor is a special kind of method that Python calls when it instantiates an object using the definitions found in your class. Python relies on the constructor to perform tasks such as initializing (assigning values to) any instance variables that the object will need when it starts. \n",
        "\n",
        "The name of a constructor is always the same, `__init__`. The constructor method will be automatically called when an object is created. Here's an example of a class with a constructor:"
      ]
    },
    {
      "cell_type": "code",
      "execution_count": null,
      "metadata": {
        "id": "BUBXEaIjKOpT"
      },
      "outputs": [],
      "source": [
        "class Dog:\n",
        "    def __init__(self, name):\n",
        "        self.name = name\n",
        "\n",
        "    def bark(self):\n",
        "        print(\"Woof woof!\")"
      ]
    },
    {
      "cell_type": "markdown",
      "metadata": {
        "id": "7tT8dIYUKOpU"
      },
      "source": [
        "In this class, `__init__` is a constructor. When you create a new Dog object, Python calls the `__init__` method to initialize the object. Here's how you can create a new Dog object with a name:"
      ]
    },
    {
      "cell_type": "code",
      "execution_count": null,
      "metadata": {
        "colab": {
          "base_uri": "https://localhost:8080/"
        },
        "id": "sHq2l3M1KOpU",
        "outputId": "667969b4-197a-4d17-8a7e-267317079e9f"
      },
      "outputs": [
        {
          "output_type": "stream",
          "name": "stdout",
          "text": [
            "Fido\n"
          ]
        }
      ],
      "source": [
        "my_dog = Dog(\"Fido\")\n",
        "print(my_dog.name)  # Outputs: Fido"
      ]
    },
    {
      "cell_type": "markdown",
      "metadata": {
        "id": "o14MtOREKOpV"
      },
      "source": [
        "In this code, \"Fido\" is passed to the `__init__` method, which sets self.name to \"Fido\". So when we print my_dog.name, it outputs \"Fido\".\n",
        "\n",
        "Let's check your understanding:\n",
        "\n",
        "Can you modify the Cat class to include a constructor that accepts a color parameter? Then, create a new Cat object with the color \"Black\"."
      ]
    },
    {
      "cell_type": "code",
      "execution_count": null,
      "metadata": {
        "colab": {
          "base_uri": "https://localhost:8080/",
          "height": 35
        },
        "id": "R8eiSWYwKOpV",
        "outputId": "0325c524-1634-4a52-d571-02e3211ecaa6"
      },
      "outputs": [
        {
          "output_type": "execute_result",
          "data": {
            "text/plain": [
              "'Black'"
            ],
            "application/vnd.google.colaboratory.intrinsic+json": {
              "type": "string"
            }
          },
          "metadata": {},
          "execution_count": 15
        }
      ],
      "source": [
        "# Constructors allow us to create and properly initialize objects of a given class. It is always defined with __init__\n",
        "class Cat:\n",
        "    \n",
        "    def __init__(self,color):\n",
        "        self.color = color\n",
        "        \n",
        "cat = Cat(\"Black\")\n",
        "cat.color"
      ]
    },
    {
      "cell_type": "code",
      "execution_count": null,
      "metadata": {
        "colab": {
          "base_uri": "https://localhost:8080/",
          "height": 35
        },
        "id": "6ZwvzGebKOpV",
        "outputId": "e225bd9a-7f70-4198-f24a-5fa6776df69d"
      },
      "outputs": [
        {
          "output_type": "execute_result",
          "data": {
            "text/plain": [
              "'Black'"
            ],
            "application/vnd.google.colaboratory.intrinsic+json": {
              "type": "string"
            }
          },
          "metadata": {},
          "execution_count": 16
        }
      ],
      "source": [
        "cat = Cat(\"Black\")\n",
        "cat.color"
      ]
    },
    {
      "cell_type": "markdown",
      "metadata": {
        "id": "Pq85SYJ7KOpW"
      },
      "source": [
        "Perfect! You've created a Cat object named cat with the color \"White\", and your understanding of constructors is spot on.\n",
        "\n",
        "Now, let's move on to **Day 3: Inheritance in Python.**\n",
        "\n",
        "Inheritance is a mechanism in which one class acquires the properties (methods and attributes) of another. With the use of inheritance, the information is made manageable in a hierarchical order.\n",
        "\n",
        "The class from which properties are inherited is called the parent class or superclass, and the class which inherits these properties is called the child class or subclass.\n",
        "\n",
        "Here's a simple example of inheritance in Python:"
      ]
    },
    {
      "cell_type": "code",
      "execution_count": null,
      "metadata": {
        "colab": {
          "base_uri": "https://localhost:8080/"
        },
        "id": "pXz5PqMtKOpW",
        "outputId": "876de539-d032-471d-d2b6-c416b0693b2d"
      },
      "outputs": [
        {
          "output_type": "stream",
          "name": "stdout",
          "text": [
            "Fido eats.\n",
            "Woof woof!\n"
          ]
        }
      ],
      "source": [
        "class Animal:\n",
        "    def __init__(self, name):\n",
        "        self.name = name\n",
        "\n",
        "    # Instance method   \n",
        "    def eat(self):\n",
        "        print(self.name + \" eats.\")\n",
        "\n",
        "# Child class        \n",
        "class Dog(Animal):\n",
        "    def bark(self):\n",
        "        print(\"Woof woof!\")\n",
        "\n",
        "my_dog = Dog(\"Fido\")\n",
        "my_dog.eat()  # Outputs: Fido eats.\n",
        "my_dog.bark()  # Outputs: Woof woof"
      ]
    },
    {
      "cell_type": "markdown",
      "metadata": {
        "id": "S-PTW45vKOpY"
      },
      "source": [
        "In this code, Dog is a subclass of Animal. It inherits the `__init__` and eat methods from Animal, but it also defines its own bark method."
      ]
    },
    {
      "cell_type": "markdown",
      "metadata": {
        "id": "rICiDcdOKOpY"
      },
      "source": [
        "Now, let's check your understanding:\n",
        "\n",
        "* Can you create a Lion class that inherits from Animal and has its own roar method? Then, create a Lion object named \"Leo\" and call its eat and roar methods."
      ]
    },
    {
      "cell_type": "code",
      "execution_count": null,
      "metadata": {
        "colab": {
          "base_uri": "https://localhost:8080/"
        },
        "id": "nvzZkMLvKOpY",
        "outputId": "484b1f85-66c6-4db5-b08a-04a82aa5c789"
      },
      "outputs": [
        {
          "output_type": "stream",
          "name": "stdout",
          "text": [
            "Leo eats.\n",
            "Roar\n"
          ]
        }
      ],
      "source": [
        "# Inheritance helps us to retain some of the properties of the parent class in the child class but also helps to \n",
        "# override or extend new properties not present in the parent class\n",
        "\n",
        "class Animal:\n",
        "    def __init__(self,name):\n",
        "        self.name = name\n",
        "        \n",
        "    def eat(self):\n",
        "        print(self.name + ' eats.')\n",
        "\n",
        "class Lion(Animal):\n",
        "    def speak(self):\n",
        "        print(\"Roar\")\n",
        "        \n",
        "my_lion = Lion('Leo')\n",
        "my_lion.eat()\n",
        "my_lion.speak()    "
      ]
    },
    {
      "cell_type": "markdown",
      "metadata": {
        "id": "FrxJGHTLKOpZ"
      },
      "source": [
        "Perfect! Your understanding of inheritance is spot on, and your Lion class is correctly set up to inherit from Animal. It also has its own roar method, just as we wanted.\n",
        "\n",
        "Now, let's discuss a related topic: **polymorphism.**\n",
        "\n",
        "Polymorphism allows us to define methods in the child class with the same name as defined in their parent class. It's the ability of an object to take on many forms. The most common use of polymorphism in OOP occurs when a parent class reference is used to refer to a child class object.\n",
        "\n",
        "In Python, Polymorphism allows us to define methods in the child class that have the same name as the methods in the parent class. In inheritance, the child class inherits the methods from the parent class. However, it is possible to modify a method in a child class that it has inherited from the parent class. This is particularly useful in cases where the method inherited from the parent class doesn’t quite fit the child class. In such cases, we re-implement the method in the child class. This process of re-implementing a method in the child class is known as **Method Overriding.**\n",
        "\n",
        "Let's take a look at an example:"
      ]
    },
    {
      "cell_type": "code",
      "execution_count": null,
      "metadata": {
        "colab": {
          "base_uri": "https://localhost:8080/"
        },
        "id": "bpEIPfq0KOpZ",
        "outputId": "a1842b18-94f7-4445-b3f5-4b875e97e6ee"
      },
      "outputs": [
        {
          "output_type": "stream",
          "name": "stdout",
          "text": [
            "Woof!\n",
            "Meow!\n"
          ]
        }
      ],
      "source": [
        "class Animal:\n",
        "    def __init__(self, name):\n",
        "        self.name = name\n",
        "\n",
        "    def speak(self):\n",
        "        pass  # To be implemented by subclasses\n",
        "\n",
        "class Dog(Animal):\n",
        "    def speak(self):\n",
        "        return \"Woof!\"\n",
        "\n",
        "class Cat(Animal):\n",
        "    def speak(self):\n",
        "        return \"Meow!\"\n",
        "\n",
        "dog = Dog(\"Fido\")\n",
        "print(dog.speak())  # Outputs: Woof!\n",
        "\n",
        "cat = Cat(\"Whiskers\")\n",
        "print(cat.speak())  # Outputs: Meow!"
      ]
    },
    {
      "cell_type": "markdown",
      "metadata": {
        "id": "6v2YdbPJKOpZ"
      },
      "source": [
        "Simplifying the sentence \"This is an example of polymorphism, where objects of different classes can be treated as if they were objects of the same class.\" \n",
        "\n",
        "In this example, what exactly are the objects of different classes. How are they treated as objects of the same class. Can you explain?\n",
        "\n",
        "In the example I provided earlier, we have three classes: **Animal, Dog, and Cat.**\n",
        "\n",
        "**Animal is the base class, and Dog and Cat are subclasses that inherit from Animal.** This means that Dog and Cat have all the attributes and methods of Animal, in addition to their own attributes and methods.\n",
        "\n",
        "**When we create objects of these classes (animal, dog, and cat), they can be treated as if they were objects of the same class (Animal) because they all have a method named make_sound().** *Cf this with definition of Polymorphism initially*\n",
        "\n",
        "Even though animal, dog, and cat are objects of different classes, they can all be passed to a function that expects an object of type Animal. This is possible because Dog and Cat inherit from Animal, which means that they are subclasses of Animal and therefore can be treated as if they were objects of type Animal.\n",
        "\n",
        "Here's an example to illustrate this concept:"
      ]
    },
    {
      "cell_type": "code",
      "execution_count": null,
      "metadata": {
        "colab": {
          "base_uri": "https://localhost:8080/"
        },
        "id": "p2853MhlKOpZ",
        "outputId": "30d47b51-ffd2-4dea-bfbc-f69d85f1bd4c"
      },
      "outputs": [
        {
          "output_type": "stream",
          "name": "stdout",
          "text": [
            "The animal makes a sound\n",
            "The dog barks\n",
            "The cat meows\n"
          ]
        }
      ],
      "source": [
        "class Animal:\n",
        "    def make_sound(self):\n",
        "        print(\"The animal makes a sound\")\n",
        "\n",
        "class Dog(Animal):\n",
        "    def make_sound(self):\n",
        "        print(\"The dog barks\")\n",
        "\n",
        "class Cat(Animal):\n",
        "    def make_sound(self):\n",
        "        print(\"The cat meows\")\n",
        "\n",
        "# Create objects of the classes\n",
        "animal = Animal()\n",
        "dog = Dog()\n",
        "cat = Cat()\n",
        "\n",
        "# Call the make_sound method on each object\n",
        "animal.make_sound() # Output: \"The animal makes a sound\"\n",
        "dog.make_sound()    # Output: \"The dog barks\"\n",
        "cat.make_sound()    # Output: \"The cat meows\""
      ]
    },
    {
      "cell_type": "code",
      "execution_count": null,
      "metadata": {
        "colab": {
          "base_uri": "https://localhost:8080/"
        },
        "id": "SFcUAAVaKOpa",
        "outputId": "83cb7139-426c-4c73-e8f9-4e098f026940"
      },
      "outputs": [
        {
          "output_type": "stream",
          "name": "stdout",
          "text": [
            "The animal makes a sound\n",
            "The dog barks\n",
            "The cat meows\n"
          ]
        }
      ],
      "source": [
        "def make_animal_sound(animal):\n",
        "    animal.make_sound()\n",
        "\n",
        "# Create objects of the classes\n",
        "animal = Animal()\n",
        "dog = Dog()\n",
        "cat = Cat()\n",
        "\n",
        "# Call the make_animal_sound function on each object\n",
        "make_animal_sound(animal) # Output: \"The animal makes a sound\"\n",
        "make_animal_sound(dog)    # Output: \"The dog barks\"\n",
        "make_animal_sound(cat)    # Output: \"The cat meows\""
      ]
    },
    {
      "cell_type": "markdown",
      "metadata": {
        "id": "DKE4lksJKOpa"
      },
      "source": [
        "In this code, Dog and Cat are subclasses of Animal. They both implement the speak method, but they do so differently.\n",
        "\n",
        "Let's check your understanding:\n",
        "\n",
        "* What is polymorphism and why is it useful?\n",
        "* Can you modify the Lion class to include a speak method that returns \"Roar!\"? Then, create a Lion object named \"Leo\" and call its speak method."
      ]
    },
    {
      "cell_type": "code",
      "execution_count": null,
      "metadata": {
        "colab": {
          "base_uri": "https://localhost:8080/"
        },
        "id": "ykL-Qmi9KOpa",
        "outputId": "087c16f0-8049-45ad-f1af-baa69274943a"
      },
      "outputs": [
        {
          "output_type": "stream",
          "name": "stdout",
          "text": [
            "Roar!\n"
          ]
        }
      ],
      "source": [
        "class Animal:\n",
        "    def __init__(self, name):\n",
        "        self.name = name\n",
        "\n",
        "    def speak(self):\n",
        "        pass  # To be implemented by subclasses\n",
        "\n",
        "class Lion(Animal):\n",
        "    def speak(self):\n",
        "        return \"Roar!\"\n",
        "\n",
        "my_lion = Lion(\"Leo\")\n",
        "print(my_lion.speak())  # Outputs: Roar!"
      ]
    },
    {
      "cell_type": "markdown",
      "metadata": {
        "id": "yII-jyk3KOpb"
      },
      "source": [
        "On Day 5, we will be discussing **Method Overriding in Python.** This is an important concept that will help us understand how we can modify the behavior of methods inherited from the parent class in the child class.\n",
        "\n",
        "However, before we proceed, let's revise:\n",
        "\n",
        "* Can you explain how polymorphism is demonstrated in the Animal, Dog, and Cat classes from the previous example?\n",
        "* Can you modify the Cat class to include a speak method that returns \"Meow!\"? Then, create a Cat object named \"Whiskers\" and call its speak method."
      ]
    },
    {
      "cell_type": "code",
      "execution_count": null,
      "metadata": {
        "colab": {
          "base_uri": "https://localhost:8080/"
        },
        "id": "ni_2lXQLKOpb",
        "outputId": "ea50f979-fa57-4d1c-ed69-3eee72a65b6c"
      },
      "outputs": [
        {
          "output_type": "stream",
          "name": "stdout",
          "text": [
            "Meow!\n"
          ]
        }
      ],
      "source": [
        "# Animal class is the parent class and has a speak method. Dog and Cat are sub classes from which we created objects dog and\n",
        "# cat. animal is an object created from Animal class. We used polymorphism by overriding the speak method in Animal class to\n",
        "# create own speak methods in the Dog and Cat classes. \n",
        "\n",
        "class Animal:\n",
        "    def __init__(self,name):\n",
        "        self.name = name\n",
        "        \n",
        "    def speak(self):\n",
        "        pass\n",
        "\n",
        "class Cat(Animal):\n",
        "    def speak(self):\n",
        "        return 'Meow!'\n",
        "\n",
        "my_cat = Cat('Whiskers')\n",
        "print(my_cat.speak())        "
      ]
    },
    {
      "cell_type": "markdown",
      "metadata": {
        "id": "XjsDoNJPKOpb"
      },
      "source": [
        "Excellent! Your understanding of polymorphism is accurate and your implementation of the Cat class with a speak method is correct.\n",
        "\n",
        "Let's move on to Day 5: **Method Overriding in Python.**\n",
        "\n",
        "Method overriding is a concept of object-oriented programming that allows a subclass to provide a different implementation of a method that is already defined in its superclass. This can be useful in many scenarios where the method inherited from the superclass doesn't quite fit into the behavior of the subclass.\n",
        "\n",
        "Here's a simple example of method overriding in Python:"
      ]
    },
    {
      "cell_type": "code",
      "execution_count": null,
      "metadata": {
        "colab": {
          "base_uri": "https://localhost:8080/"
        },
        "id": "K1UNuRX2KOpb",
        "outputId": "44fee4e5-c060-48ec-99e6-6c55c225d722"
      },
      "outputs": [
        {
          "output_type": "stream",
          "name": "stdout",
          "text": [
            "Fido barks!\n"
          ]
        }
      ],
      "source": [
        "class Animal:\n",
        "    def __init__(self, name):\n",
        "        self.name = name\n",
        "\n",
        "    def speak(self):\n",
        "        return f\"{self.name} speaks.\"\n",
        "\n",
        "class Dog(Animal):\n",
        "    def speak(self):\n",
        "        return f\"{self.name} barks!\"\n",
        "\n",
        "dog = Dog(\"Fido\")\n",
        "print(dog.speak())  # Outputs: Fido barks!"
      ]
    },
    {
      "cell_type": "markdown",
      "metadata": {
        "id": "3lFnn5AtKOpc"
      },
      "source": [
        "Simplifying the sentence \"Method overriding is a concept of object-oriented programming that allows a subclass to provide a different implementation of a method that is already defined in its superclass.\""
      ]
    },
    {
      "cell_type": "markdown",
      "metadata": {
        "id": "YE1_jiGAKOpc"
      },
      "source": [
        "Of course! Let's break it down:\n",
        "\n",
        "Method overriding is a feature that lets us change how a certain method works.\n",
        "\n",
        "* This feature is part of object-oriented programming, a way of programming that involves creating \"objects\" that interact with each other.\n",
        "\n",
        "* We use method overriding when we have a subclass, a kind of \"child\" class that is based on another class (the \"parent\").\n",
        "\n",
        "* The subclass already has all the methods (functions) from the parent class, but sometimes we want a method to do something different in the subclass.\n",
        "\n",
        "* In those cases, we can provide a different implementation of the method in the subclass, meaning we write new code for the method in the subclass.\n",
        "\n",
        "* The method in the subclass is the same one that's already defined in the superclass (another term for the parent class), but it works differently because we've overridden it.\n",
        "\n",
        "So, in simpler terms, **method overriding is when we have a method in a child class that changes the way a method from the parent class works.** This can be useful when we want the child class to do something a bit different from the parent class when the same method is called."
      ]
    },
    {
      "cell_type": "markdown",
      "metadata": {
        "id": "wgnHfDXaKOpc"
      },
      "source": [
        "**Understanding Question** Why are we using return while defining speak in parent class in method overriding example? Why can't we use pass and let the subclass handle the method. Is there any reason for doing this?"
      ]
    },
    {
      "cell_type": "markdown",
      "metadata": {
        "id": "-DruUqeQKOpc"
      },
      "source": [
        "TThe use of return in the parent class's method is not strictly necessary and can indeed be replaced by pass, especially if you know that the method will always be overridden in the subclass.\n",
        "\n",
        "The reason for including a return statement in the parent class's method is often to provide a default behavior that will be used if the method is not overridden in the subclass. This can be helpful for understanding the intended functionality of the method, and it can also provide a fallback behavior in case a subclass does not provide its own version of the method.\n",
        "\n",
        "Here's a revised version of the previous example with pass used in the parent class's speak method:"
      ]
    },
    {
      "cell_type": "code",
      "execution_count": null,
      "metadata": {
        "colab": {
          "base_uri": "https://localhost:8080/"
        },
        "id": "ojgFmNQVKOpc",
        "outputId": "b577f9dc-988d-46cf-8483-e49c878f2546"
      },
      "outputs": [
        {
          "output_type": "stream",
          "name": "stdout",
          "text": [
            "Fido barks!\n"
          ]
        }
      ],
      "source": [
        "class Animal:\n",
        "    def __init__(self, name):\n",
        "        self.name = name\n",
        "\n",
        "    def speak(self):\n",
        "        pass  # No default behavior\n",
        "\n",
        "class Dog(Animal):\n",
        "    def speak(self):\n",
        "        return f\"{self.name} barks!\"\n",
        "\n",
        "dog = Dog(\"Fido\")\n",
        "print(dog.speak())  # Outputs: Fido barks!"
      ]
    },
    {
      "cell_type": "markdown",
      "metadata": {
        "id": "qX8qL9qTKOpd"
      },
      "source": [
        "In this version, calling speak on an instance of Animal would not produce any output, because the speak method in the Animal class does not do anything. The Dog subclass still provides its own speak method that overrides the one in Animal."
      ]
    },
    {
      "cell_type": "markdown",
      "metadata": {
        "id": "YB2nQDjbKOpd"
      },
      "source": [
        "Using return in the parent class's method can indeed be a good practice, as it provides a default behavior and can help clarify the intended functionality of the method.\n",
        "\n",
        "Now, let's see your implementation for the following task:\n",
        "\n",
        "* Modify the Lion class to override the speak method so that it returns \"<lion's name> roars!\". Then, create a Lion object named \"Leo\" and call its speak method."
      ]
    },
    {
      "cell_type": "code",
      "execution_count": null,
      "metadata": {
        "colab": {
          "base_uri": "https://localhost:8080/"
        },
        "id": "PsfkgiLhKOpd",
        "outputId": "4cdd9aa8-ac34-484f-e1e7-c3e7a1da4853"
      },
      "outputs": [
        {
          "output_type": "stream",
          "name": "stdout",
          "text": [
            "Leo roars\n"
          ]
        }
      ],
      "source": [
        "class Animal:\n",
        "    def __init__(self,name):\n",
        "        self.name = name\n",
        "        \n",
        "    def speak(self):\n",
        "        return f\"{self.name} speaks\"\n",
        "    \n",
        "class Lion(Animal):\n",
        "    def speak(self):\n",
        "        return f\"{self.name} roars\"\n",
        "    \n",
        "lion = Lion('Leo')\n",
        "print(lion.speak())    "
      ]
    },
    {
      "cell_type": "markdown",
      "metadata": {
        "id": "bnINnx3_KOpd"
      },
      "source": []
    },
    {
      "cell_type": "markdown",
      "metadata": {
        "id": "Q7Ik8ch4KOpd"
      },
      "source": [
        "## Real world example - PyTorch"
      ]
    },
    {
      "cell_type": "markdown",
      "metadata": {
        "id": "k8eh2YWsKOpe"
      },
      "source": [
        "Animal, Dog, Cat classes will only take us so far. They are good for understanding the basic concepts. But in order to understand how OOP is used in real world, let's take an example of PyTorch and see few examples. I am using PyTorch example because it uses classes extensively unlike TensorFlow. In fact, I started learning OOP only after I started PyTorch. \n",
        "\n",
        "So here we go!"
      ]
    },
    {
      "cell_type": "markdown",
      "metadata": {
        "id": "3HzvERiqKOpe"
      },
      "source": [
        "Let's first see the code and then understand what each line of code does. For this example, I am using the code from https://pytorch.org/docs/stable/generated/torch.nn.Module.html."
      ]
    },
    {
      "cell_type": "code",
      "execution_count": null,
      "metadata": {
        "id": "EYIkGR_6KOpe"
      },
      "outputs": [],
      "source": []
    },
    {
      "cell_type": "code",
      "execution_count": null,
      "metadata": {
        "id": "NoKDwDpkKOpe"
      },
      "outputs": [],
      "source": [
        "import torch.nn as nn\n",
        "import torch.nn.functional as F\n",
        "\n",
        "class Model(nn.Module):\n",
        "    def __init__(self):\n",
        "        super().__init__()\n",
        "        self.conv1 = nn.Conv2d(1, 20, 5)\n",
        "        self.conv2 = nn.Conv2d(20, 20, 5)\n",
        "\n",
        "    def forward(self, x):\n",
        "        x = F.relu(self.conv1(x))\n",
        "        return F.relu(self.conv2(x))\n"
      ]
    },
    {
      "cell_type": "markdown",
      "metadata": {
        "id": "pGDGJYbFKOpf"
      },
      "source": [
        "In the above code, nn.Module is a class provided by PyTorch and Model is a subclass of nn.Module. Let's go through each line of the code:\n",
        "\n",
        "1. **import torch.nn as nn:** This line is importing the torch.nn module, which contains various building blocks for creating neural networks, and it is being aliased as nn for convenience.\n",
        "\n",
        "\n",
        "2. **import torch.nn.functional as F:** This line is importing the torch.nn.functional module, which contains functions that don't have any parameters (like activation functions, pooling functions, etc.). It is aliased as F for convenience.\n",
        "\n",
        "\n",
        "3. **class Model(nn.Module):** Here we are defining a new class Model that is a subclass of nn.Module. By subclassing nn.Module, our Model class will inherit all the properties and methods of nn.Module, and we can also add our own. ***Note: Remember, this is nothing but inheritance.***\n",
        "\n",
        "\n",
        "4. **def `__init__(self)`:** This is the constructor method for our Model class. It is called when an object of the Model class is created.\n",
        "\n",
        "\n",
        "5. **`super().__init__():`** This line is calling the constructor of the superclass (nn.Module). It's important to do this so that any setup in the nn.Module class is done correctly.\n",
        "\n",
        "\n",
        "6. **self.conv1 = nn.Conv2d(1, 20, 5):** Here we are creating a 2D convolutional layer and assigning it to self.conv1. The layer will take in a single channel image (since the first argument is 1), output 20 channels (since the second argument is 20), and use a kernel size of 5x5 (since the third argument is 5).\n",
        "\n",
        "\n",
        "7. **self.conv2 = nn.Conv2d(20, 20, 5):** Similarly, we are creating another 2D convolutional layer and assigning it to self.conv2. This layer will take in the 20 channel output from the previous layer and output another 20 channels, also using a 5x5 kernel.\n",
        "\n",
        "\n",
        "8. **def forward(self, x):** This is defining the forward pass function for our Model class. The forward pass is the process of transforming the input data (x) through the layers of the neural network to get the output. ***Note: Remember, this is method overriding we saw earlier.***\n",
        "\n",
        "\n",
        "9. **x = F.relu(self.conv1(x)):** Here we are passing the input data x through conv1 and then applying the ReLU (Rectified Linear Unit) activation function. The ReLU function is a simple function that replaces all negative pixel values in the feature map with zero.\n",
        "\n",
        "\n",
        "10. **return F.relu(self.conv2(x)):** Finally, we are passing the result through conv2 and applying the ReLU activation function again. This transformed data is then returned as the output of the forward pass."
      ]
    },
    {
      "cell_type": "markdown",
      "metadata": {
        "id": "Iz-WgrfAKOpf"
      },
      "source": [
        "When I first started learning OOP in Python I had ziliions of questions. You may or may not have them. In any case, below are a series of Q&A that you can use as a ready reckoner. These are not formal definitions, but I simplified in my own language for better understanding. "
      ]
    },
    {
      "cell_type": "markdown",
      "metadata": {
        "id": "eWAIzyi9KOpf"
      },
      "source": [
        "**1. Understanding `__init_-` and self**\n",
        "\n",
        "The self parameter refers to the instance of the class (object itself) that is being created, and is used to access and modify the attributes of that instance. The `__init__` method is a special method that is called when an instance of the class is created (object itself).\n",
        "\n",
        "When you create an object from a class, the \"self\" parameter refers to that specific object. You can use \"self\" to access and change the characteristics of that object.\n",
        "\n",
        "When you see self.conv1 and self.conv2 in the init method, it's like saying, \"For this specific Model object that I'm creating, it will have an attribute called conv1 and another attribute called conv2.\""
      ]
    },
    {
      "cell_type": "markdown",
      "metadata": {
        "id": "J3mkEciWKOpf"
      },
      "source": [
        "**2. Understanding class and subclass intuitively**\n",
        "\n",
        "In the examples we saw initially, we created a class first and then a subclass. For ex, the Animal class and Dog or Cat subclass. However, in reality we won't be always doing this. We will rather be subclassing direclty but it would still be called as class created by subclassing another class. I know this sounds confusing. \n",
        "\n",
        "Let's look at the Model example above. Here Model is a subclass created by subclassing nn.Module. But in the documentation page and any course you take, Model will be referred to as a class created by subclassing nn.Module. One way to inutitively understand this subclasses are always written in camel case. For ex, LinearRegressionModel and will have the parent class within parentheses. In this example, nn.Module is the parent class. \n",
        "\n"
      ]
    },
    {
      "cell_type": "markdown",
      "metadata": {
        "id": "TVxwdwuwKOpf"
      },
      "source": [
        "**3. Understanding the parameters**\n",
        "\n",
        "This might sound really silly. But trust me, this confused me in the beginning. To give you the context, this is the question I had in mind. \n",
        "\n",
        "From what I learned in Real Python about OOP, in the `__init__(self)` line we also give other parameters. We don't do it here. Not sure why we are not saying init(self,name,age). ***You can find this example in this [notebook](https://colab.research.google.com/drive/1TAPVm4w5LfrDLr_d14wQeQp6B-jmntlJ)***\n",
        "\n",
        "n Python, the init method is used to initialize the attributes of an object. The variables conv1 and conv2 are not included as parameters in the init method because they are attributes of the Model object that are being defined within the init method itself.\n",
        "\n",
        "**The parameters that you include inside the parentheses of the init method are values that you need to provide when you create an object.** These are typically variables that could change from one object to another. For example, if you were creating a Dog class, you might include name and age as parameters in your init method, because these are things that vary from one dog to another.\n",
        "\n",
        "However, in your Model class, conv1 and conv2 are being set to specific convolutional layers every time a Model object is created. These aren't things that you'd want to change from one model to another, so they're not included as parameters. Instead, they're set as attributes within the init method.\n",
        "\n",
        "**Here's an analogy:** imagine you're building a car. Some parts of the car, like the color or the type of seats, might be customizable -- these are like the parameters in your init method. But other parts, like the engine or the wheels, are going to be the same in every car you build. You still need to put them in each car you build, and that's what's happening with conv1 and conv2 in the init method.\n",
        "\n",
        "So, in simple terms: **self is always the first parameter for any class method in Python (including init).** The other parameters to init are typically variables that could change from one instance of the class to another. In this case, conv1 and conv2 are not parameters because they are set to specific values every time an instance of Model is created."
      ]
    },
    {
      "cell_type": "markdown",
      "metadata": {
        "id": "Hbi9r2JRKOpg"
      },
      "source": [
        "**Additional Explanation**\n",
        "\n",
        "* **self.conv1 and self.conv2 are instance variables**, which means they are tied to the instance of the class (subclass), not the class itself. When we say self.conv1, we are defining conv1 for the instance of the class Model (subclass).\n",
        "\n",
        "* The self keyword in Python is used to refer to an instance of the class. By using self, we can access the attributes and methods of the class in python. So self.conv1 and self.conv2 are actually defining conv1 and conv2 as attributes of an instance of the Model class.\n",
        "\n",
        "* Whenever you see self.something in a class's method, it's defining or using an attribute something of an instance of that class.\n",
        "\n",
        "In simple terms, you can think of self as \"this object.\" **So when we say self.conv1 = nn.Conv2d(1, 20, 5), we're saying \"Set this object's conv1 to be a new 2D convolutional layer.\"** This allows each instance of the class to have its own conv1 and conv2."
      ]
    },
    {
      "cell_type": "code",
      "execution_count": null,
      "metadata": {
        "id": "MNm5L-S1KOpg"
      },
      "outputs": [],
      "source": []
    }
  ],
  "metadata": {
    "kernelspec": {
      "display_name": "Python 3",
      "language": "python",
      "name": "python3"
    },
    "language_info": {
      "codemirror_mode": {
        "name": "ipython",
        "version": 3
      },
      "file_extension": ".py",
      "mimetype": "text/x-python",
      "name": "python",
      "nbconvert_exporter": "python",
      "pygments_lexer": "ipython3",
      "version": "3.8.5"
    },
    "colab": {
      "provenance": [],
      "include_colab_link": true
    }
  },
  "nbformat": 4,
  "nbformat_minor": 0
}